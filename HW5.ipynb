{
 "cells": [
  {
   "cell_type": "markdown",
   "id": "8a2b4c6d",
   "metadata": {},
   "source": [
    "# Assignment 5: File Handling, Comprehension, Modules\n",
    "\n",
    "**Course:** AbzumsAI Programming 1404\n",
    "\n",
    "**Instructor:** Mr. Ali Mohammadzadeh Shabestari\n",
    "\n",
    "**Date Assigned:** July 16, 2025\n",
    "\n",
    "**Deadline:** July 20, 2025"
   ]
  },
  {
   "cell_type": "markdown",
   "id": "5e3f8a1b",
   "metadata": {},
   "source": [
    "## 🔹 3.1 File Handling"
   ]
  },
  {
   "cell_type": "markdown",
   "id": "d4e5f7a2",
   "metadata": {},
   "source": [
    "### 📝 Task 1: Read a text file\n",
    "\n",
    "Create a text file named 'sample.txt' with some content, then read and print its contents.\n",
    "\n",
    "**Expected Output:**\n",
    "```\n",
    "[Content of your file]\n",
    "```"
   ]
  },
  {
   "cell_type": "code",
   "execution_count": 34,
   "id": "b3c8d9f1",
   "metadata": {},
   "outputs": [
    {
     "name": "stdout",
     "output_type": "stream",
     "text": [
      "hello \n",
      " My name is Nazanin \n",
      " welcome to this file!\n"
     ]
    }
   ],
   "source": [
    "with open (\"sample.txt\",\"w\") as file:\n",
    "    content = file.write(\"hello \\n My name is Nazanin \\n welcome to this file!\")\n",
    "\n",
    "with open (\"sample.txt\", \"r\") as file :\n",
    "    content = file.read()\n",
    "    print (content)"
   ]
  },
  {
   "cell_type": "markdown",
   "id": "e5f6g7h8",
   "metadata": {},
   "source": [
    "### 📝 Task 2: Write to a CSV file\n",
    "\n",
    "Create a CSV file named 'data.csv' and write the following data:\n",
    "```\n",
    "Name,Age,Occupation\n",
    "Alice,30,Engineer\n",
    "Bob,25,Designer\n",
    "```"
   ]
  },
  {
   "cell_type": "code",
   "execution_count": 35,
   "id": "i9j0k1l2",
   "metadata": {},
   "outputs": [
    {
     "name": "stdout",
     "output_type": "stream",
     "text": [
      "   Unnamed: 0   name  Age occupation\n",
      "0           0  Alice   30   engineer\n",
      "1           1    Bob   25   designer\n"
     ]
    }
   ],
   "source": [
    "import pandas as pd \n",
    "data = {\n",
    "    \"name\":[\"Alice\",\"Bob\"],\n",
    "    \"Age\" : [30,25],\n",
    "    \"occupation\" : [\"engineer\", \"designer\"]\n",
    "}\n",
    "df = pd.DataFrame(data)\n",
    "df.to_csv(\"data.csv\")\n",
    "df = pd.read_csv(\"data.csv\")\n",
    "print(df.head())"
   ]
  },
  {
   "cell_type": "markdown",
   "id": "q7r8s9t0",
   "metadata": {},
   "source": [
    "### 📝 Task 3: JSON file operations\n",
    "\n",
    "Create a dictionary, save it to a JSON file named 'config.json', then read it back and print it.\n",
    "\n",
    "**Expected Output:**\n",
    "```\n",
    "{'name': 'Test', 'value': 42}\n",
    "```"
   ]
  },
  {
   "cell_type": "code",
   "execution_count": 36,
   "id": "u1v2w3x4",
   "metadata": {},
   "outputs": [
    {
     "name": "stdout",
     "output_type": "stream",
     "text": [
      "{'name': ['Alice', 'Bob'], 'Age': [30, 25], 'occupation': ['engineer', 'designer']}\n"
     ]
    }
   ],
   "source": [
    "import json\n",
    "date = {\"name\" : \"Test\",\n",
    "        \"value\" : 42}\n",
    "\n",
    "with open(\"config.json\", \"w\") as file:\n",
    "    json.dump(data, file)\n",
    "\n",
    "with open(\"config.json\") as file:\n",
    "    data = json.load(file)\n",
    "print(data)"
   ]
  },
  {
   "cell_type": "markdown",
   "id": "c9d8e7f6",
   "metadata": {},
   "source": [
    "## 🔹 3.2 Comprehensions"
   ]
  },
  {
   "cell_type": "markdown",
   "id": "g5h4i3j2",
   "metadata": {},
   "source": [
    "### 📝 Task 1: List comprehension\n",
    "\n",
    "Create a list of squares for numbers 0 through 9 using list comprehension.\n",
    "\n",
    "**Expected Output:**\n",
    "```\n",
    "[0, 1, 4, 9, 16, 25, 36, 49, 64, 81]\n",
    "```"
   ]
  },
  {
   "cell_type": "code",
   "execution_count": 37,
   "id": "k1l2m3n4",
   "metadata": {},
   "outputs": [
    {
     "name": "stdout",
     "output_type": "stream",
     "text": [
      "[0, 1, 4, 9, 16, 25, 36, 49, 64]\n"
     ]
    }
   ],
   "source": [
    "num=[x**2 for x in range(9) ]\n",
    "print(num)"
   ]
  },
  {
   "cell_type": "markdown",
   "id": "s9t0u1v2",
   "metadata": {},
   "source": [
    "### 📝 Task 2: Dictionary comprehension\n",
    "\n",
    "Create a dictionary where keys are numbers 1 through 5 and values are their cubes.\n",
    "\n",
    "**Expected Output:**\n",
    "```\n",
    "{1: 1, 2: 8, 3: 27, 4: 64, 5: 125}\n",
    "```"
   ]
  },
  {
   "cell_type": "code",
   "execution_count": 38,
   "id": "w3x4y5z6",
   "metadata": {},
   "outputs": [
    {
     "name": "stdout",
     "output_type": "stream",
     "text": [
      "{1: 1, 2: 8, 3: 27, 4: 64, 5: 125}\n"
     ]
    }
   ],
   "source": [
    "dic ={x: x**3 for x in range(1,6)}\n",
    "print(dic)"
   ]
  },
  {
   "cell_type": "markdown",
   "id": "e1f2g3h4",
   "metadata": {},
   "source": [
    "### 📝 Task 3: Filtered list comprehension\n",
    "\n",
    "Create a list of even numbers from 0 to 20 using list comprehension with a condition.\n",
    "\n",
    "**Expected Output:**\n",
    "```\n",
    "[0, 2, 4, 6, 8, 10, 12, 14, 16, 18, 20]\n",
    "```"
   ]
  },
  {
   "cell_type": "code",
   "execution_count": 39,
   "id": "i5j6k7l8",
   "metadata": {},
   "outputs": [
    {
     "name": "stdout",
     "output_type": "stream",
     "text": [
      "[0, 2, 4, 6, 8, 10, 12, 14, 16, 18]\n"
     ]
    }
   ],
   "source": [
    "l = [x for x in range(20) if x%2==0]\n",
    "print(l)"
   ]
  },
  {
   "cell_type": "markdown",
   "id": "m9n0o1p2",
   "metadata": {},
   "source": [
    "<details>\n",
    "<summary>🔍 Click to reveal the solution</summary>\n",
    "\n",
    "```python\n",
    "evens = [x for x in range(21) if x % 2 == 0]\n",
    "print(evens)\n",
    "```\n",
    "\n",
    "</details>"
   ]
  },
  {
   "cell_type": "markdown",
   "id": "q3r4s5t6",
   "metadata": {},
   "source": [
    "## 🔹 3.3 Modules and Packages"
   ]
  },
  {
   "cell_type": "markdown",
   "id": "u7v8w9x0",
   "metadata": {},
   "source": [
    "### 📝 Task 1: Import a module\n",
    "\n",
    "Import the math module and calculate the square root of 16.\n",
    "\n",
    "**Expected Output:**\n",
    "```\n",
    "4.0\n",
    "```"
   ]
  },
  {
   "cell_type": "code",
   "execution_count": 1,
   "id": "y1z2a3b4",
   "metadata": {},
   "outputs": [
    {
     "name": "stdout",
     "output_type": "stream",
     "text": [
      "4.0\n"
     ]
    }
   ],
   "source": [
    "import math\n",
    "x=math.sqrt(16)\n",
    "print(x)"
   ]
  },
  {
   "cell_type": "markdown",
   "id": "g9h0i1j2",
   "metadata": {},
   "source": [
    "### 📝 Task 2: Import specific function\n",
    "\n",
    "From the random module, import the randint function and generate a random number between 1 and 10.\n",
    "\n",
    "**Note:** Output will vary as it's random."
   ]
  },
  {
   "cell_type": "code",
   "execution_count": 6,
   "id": "k3l4m5n6",
   "metadata": {},
   "outputs": [
    {
     "name": "stdout",
     "output_type": "stream",
     "text": [
      "2\n"
     ]
    }
   ],
   "source": [
    "from random import randint\n",
    "num = randint(1,11)\n",
    "print(num)"
   ]
  },
  {
   "cell_type": "markdown",
   "id": "s1t2u3v4",
   "metadata": {},
   "source": [
    "### 📝 Task 3: Create and import your own module\n",
    "\n",
    "1. Create a file named `mymodule.py` with a function `greet(name)` that returns \"Hello, [name]!\"\n",
    "2. Import and use this function in your notebook.\n",
    "\n",
    "**Expected Output:**\n",
    "```\n",
    "Hello, Alice!\n",
    "```"
   ]
  },
  {
   "cell_type": "code",
   "execution_count": null,
   "id": "w5x6y7z8",
   "metadata": {},
   "outputs": [],
   "source": [
    "from mymodule import greet\n",
    "print(greet(\"Alice\"))\n",
    "      \n",
    "\n"
   ]
  },
  {
   "cell_type": "markdown",
   "id": "e3f4g5h6",
   "metadata": {},
   "source": [
    "### 📝 Task 4: Package import\n",
    "\n",
    "Import the datetime module and print the current date in the format: YYYY-MM-DD.\n",
    "\n",
    "**Note:** Output will vary based on current date."
   ]
  },
  {
   "cell_type": "code",
   "execution_count": 19,
   "id": "i7j8k9l0",
   "metadata": {},
   "outputs": [
    {
     "name": "stdout",
     "output_type": "stream",
     "text": [
      "25-07-20\n"
     ]
    }
   ],
   "source": [
    "import datetime\n",
    "today = datetime.date.today()\n",
    "print (today.strftime(\"%y-%m-%d\"))\n"
   ]
  }
 ],
 "metadata": {
  "kernelspec": {
   "display_name": "Python 3",
   "language": "python",
   "name": "python3"
  },
  "language_info": {
   "codemirror_mode": {
    "name": "ipython",
    "version": 3
   },
   "file_extension": ".py",
   "mimetype": "text/x-python",
   "name": "python",
   "nbconvert_exporter": "python",
   "pygments_lexer": "ipython3",
   "version": "3.13.4"
  }
 },
 "nbformat": 4,
 "nbformat_minor": 5
}
